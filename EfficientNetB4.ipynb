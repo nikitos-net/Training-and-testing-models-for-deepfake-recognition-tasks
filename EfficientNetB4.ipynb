{
 "cells": [
  {
   "cell_type": "code",
   "execution_count": 2,
   "id": "d3d009ad-b320-4f13-9ca7-3ac624e5e990",
   "metadata": {
    "scrolled": true
   },
   "outputs": [],
   "source": [
    "import model_fit_evaluate\n",
    "from tensorflow.keras.applications import EfficientNetB4\n",
    "from tensorflow.keras.applications import efficientnet"
   ]
  },
  {
   "cell_type": "code",
   "execution_count": 3,
   "id": "866643da-7058-4cc4-95bc-18ea60b22441",
   "metadata": {},
   "outputs": [],
   "source": [
    "def create_efficientnetb4(weights_path=None):\n",
    "    # Build EfficientNetB4 model\n",
    "    base_model = EfficientNetB4(include_top=False, weights='imagenet', input_shape=(200, 200, 3))\n",
    "\n",
    "    # Apply Data Augmentation\n",
    "    input_tensor = tf.keras.layers.Input(shape=(200, 200, 3))\n",
    "    x = base_model(input_tensor, training=False) # using base model in inference mode\n",
    "    x = tf.keras.layers.GlobalAveragePooling2D()(x)\n",
    "    output_tensor = tf.keras.layers.Dense(1, activation=\"sigmoid\")(x)\n",
    "    model = tf.keras.Model(input_tensor, output_tensor)\n",
    "\n",
    "    return model"
   ]
  },
  {
   "cell_type": "code",
   "execution_count": null,
   "id": "6cbc90f3-7a36-4b2b-b72a-6ef02c2ddf22",
   "metadata": {},
   "outputs": [
    {
     "name": "stdout",
     "output_type": "stream",
     "text": [
      "Found 35788 images belonging to 2 classes.\n",
      "Found 8946 images belonging to 2 classes.\n",
      "Model: \"model_6\"\n",
      "_________________________________________________________________\n",
      " Layer (type)                Output Shape              Param #   \n",
      "=================================================================\n",
      " input_14 (InputLayer)       [(None, 200, 200, 3)]     0         \n",
      "                                                                 \n",
      " efficientnetb4 (Functional)  (None, 7, 7, 1792)       17673823  \n",
      "                                                                 \n",
      " global_average_pooling2d_6   (None, 1792)             0         \n",
      " (GlobalAveragePooling2D)                                        \n",
      "                                                                 \n",
      " dense_6 (Dense)             (None, 1)                 1793      \n",
      "                                                                 \n",
      "=================================================================\n",
      "Total params: 17,675,616\n",
      "Trainable params: 17,550,409\n",
      "Non-trainable params: 125,207\n",
      "_________________________________________________________________\n",
      "Epoch 1/5\n",
      "  74/4473 [..............................] - ETA: 45:12 - loss: 5.1917 - accuracy: 0.6875"
     ]
    }
   ],
   "source": [
    "if __name__ == '__main__':\n",
    "    # 0. Config\n",
    "    data_dir = 'train'\n",
    "    image_size = (200, 200)\n",
    "    batch_size = 8  # Adjust as needed\n",
    "    epochs = 5\n",
    "    # Create Data Generators\n",
    "    train_generator, validation_generator = model_fit_evaluate.create_data_generators(data_dir, image_size, batch_size)\n",
    "\n",
    "    # Create Model (Assuming create_efficientnetb4() is defined elsewhere)\n",
    "    model = create_efficientnetb4()\n",
    "\n",
    "    # Train Model\n",
    "    history = model_fit_evaluate.train_model(model, train_generator, validation_generator, epochs, batch_size)\n",
    "\n",
    "    # Evaluate Model\n",
    "    model_fit_evaluate.evaluate_model(model, validation_generator)\n",
    "\n",
    "    # Plot Training History\n",
    "    plot_training_history(history)"
   ]
  },
  {
   "cell_type": "code",
   "execution_count": null,
   "id": "ff14f89f-c78e-450d-aa99-dd9d4cdb4a50",
   "metadata": {},
   "outputs": [],
   "source": []
  }
 ],
 "metadata": {
  "kernelspec": {
   "display_name": "GPUTF",
   "language": "python",
   "name": "gputf"
  },
  "language_info": {
   "codemirror_mode": {
    "name": "ipython",
    "version": 3
   },
   "file_extension": ".py",
   "mimetype": "text/x-python",
   "name": "python",
   "nbconvert_exporter": "python",
   "pygments_lexer": "ipython3",
   "version": "3.9.21"
  }
 },
 "nbformat": 4,
 "nbformat_minor": 5
}
